{
 "cells": [
  {
   "cell_type": "code",
   "execution_count": 1,
   "metadata": {},
   "outputs": [],
   "source": [
    "items = [\"Tarea 0\"]"
   ]
  },
  {
   "cell_type": "code",
   "execution_count": 3,
   "metadata": {},
   "outputs": [
    {
     "name": "stdout",
     "output_type": "stream",
     "text": [
      "Operacion correcta\n",
      "Fin operacion\n"
     ]
    }
   ],
   "source": [
    "try:\n",
    "    items[0] = \"tarea 1\"\n",
    "    \n",
    "except:\n",
    "    print(\"Error en la operacion\")\n",
    "    \n",
    "else:\n",
    "    print(\"Operacion correcta\")\n",
    "    \n",
    "finally:\n",
    "    print(\"Fin operacion\")"
   ]
  },
  {
   "cell_type": "code",
   "execution_count": 6,
   "metadata": {},
   "outputs": [],
   "source": [
    "#Anyadir 5 items\n",
    "\n",
    "# Trabajamos con recorridos, booleanos y bucles"
   ]
  },
  {
   "cell_type": "code",
   "execution_count": 7,
   "metadata": {},
   "outputs": [],
   "source": [
    "tareas = [\"Tarea 0\", \"Tarea 1\", \"Tarea 2\", \"Tarea 3\", \"Tarea 4\" ]"
   ]
  },
  {
   "cell_type": "code",
   "execution_count": 14,
   "metadata": {},
   "outputs": [],
   "source": [
    "def buscar_tarea(task, tasks):\n",
    "    if tasks is not None:\n",
    "        task_ok = False\n",
    "        for item in tasks:\n",
    "            if item == task:\n",
    "                task_ok = True\n",
    "                break\n",
    "    return task_ok"
   ]
  },
  {
   "cell_type": "code",
   "execution_count": 13,
   "metadata": {},
   "outputs": [
    {
     "name": "stdout",
     "output_type": "stream",
     "text": [
      "Tarea 0\n",
      "Tarea 1\n",
      "Tarea 2\n",
      "Tarea 3\n",
      "Tarea 4\n"
     ]
    }
   ],
   "source": [
    "buscar_tarea('Tarea 1', tareas)"
   ]
  },
  {
   "cell_type": "code",
   "execution_count": 15,
   "metadata": {},
   "outputs": [
    {
     "name": "stdout",
     "output_type": "stream",
     "text": [
      "True\n"
     ]
    }
   ],
   "source": [
    "hay_tarea = buscar_tarea('Tarea 1',tareas)\n",
    "print(hay_tarea)"
   ]
  },
  {
   "cell_type": "code",
   "execution_count": 20,
   "metadata": {},
   "outputs": [],
   "source": [
    "from datetime import date"
   ]
  },
  {
   "cell_type": "code",
   "execution_count": 22,
   "metadata": {},
   "outputs": [],
   "source": [
    "hoy = date.today()"
   ]
  },
  {
   "cell_type": "code",
   "execution_count": 23,
   "metadata": {},
   "outputs": [
    {
     "data": {
      "text/plain": [
       "23"
      ]
     },
     "execution_count": 23,
     "metadata": {},
     "output_type": "execute_result"
    }
   ],
   "source": [
    "hoy.day"
   ]
  },
  {
   "cell_type": "code",
   "execution_count": null,
   "metadata": {},
   "outputs": [],
   "source": []
  },
  {
   "cell_type": "code",
   "execution_count": null,
   "metadata": {},
   "outputs": [],
   "source": []
  }
 ],
 "metadata": {
  "kernelspec": {
   "display_name": "Python 3",
   "language": "python",
   "name": "python3"
  },
  "language_info": {
   "codemirror_mode": {
    "name": "ipython",
    "version": 3
   },
   "file_extension": ".py",
   "mimetype": "text/x-python",
   "name": "python",
   "nbconvert_exporter": "python",
   "pygments_lexer": "ipython3",
   "version": "3.7.4"
  }
 },
 "nbformat": 4,
 "nbformat_minor": 2
}
